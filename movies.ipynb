{
 "cells": [
  {
   "cell_type": "code",
   "execution_count": 31,
   "metadata": {},
   "outputs": [],
   "source": [
    "import pandas as pd\n",
    "import numpy as np\n",
    "import matplotlib.pyplot as plt\n",
    "from sklearn import preprocessing\n",
    "from sklearn.ensemble import RandomForestRegressor\n",
    "from sklearn.model_selection import train_test_split\n",
    "from IPython.display import display, HTML\n",
    "import json"
   ]
  },
  {
   "cell_type": "markdown",
   "metadata": {},
   "source": [
    "# Analyse von Filmdaten\n",
    "\n",
    "Ziel ist es herauszufinden, ob anhand verschiedener Filmdaten wie z.B. Budget, Genre, Bewertung usw. auf die Einspielergebnisse geschlossen werden kann, die ein Film erzielt hat. Da die Eingabe- und Ausgabewerte bekannt sind, handelt es sich um *supervised learning*. Das Einspielergebnis kann als stetige Variable betrachtet werden, weshalb es sich um ein *Regressions-Problem* handelt.\n",
    "\n",
    "## Auswahl des Algorithmus\n",
    "\n",
    "Von den vorhandenen Algorithmen wurde der Random-Forest-Algorithmus ausgewählt, da er eine Regressionsanalyse erlaubt. Es wurde sich gegen die lineare Regression entschieden, da nicht davon ausgegangen wird, dass das Einspielergebniss in einem linearen Verhältnis zu den anderen Filmdaten steht. Die k-Means- und k-Nearest-Neighbor-Algorithm wurden nicht gewählt, da sie für Clustering bzw. Klassifizierung gedacht sind.\n",
    "\n",
    "## Übersicht über die verwendeten Daten\n",
    "\n",
    "Die verwendeten Film-Daten wurden von [Kaggle][1] bezogen und sind in zwei CSV-Dateien mit jeweils 4803 Datensätzen aufgeteilt. Es sind nominal skalierte Werte wie z.B. die original Sprache oder die Film-Genre ohne natürliche Rangfolge vorhanden. Auch sind kardinal skalierte Werte, die sich in eine Reihenfolge bringen lassen und dessen Unterschied berechnet werden kann, gegeben. Beispiele dafür sind das Budget, die Popularität oder auch das Einspielergebnis. Generell kann das Random Forest Verfahren mit all diesen Werten umgehen. Allerdings unterstüzt die verwendete [scikit-learn-Bibliothek keine kategorischen Daten][2]:\n",
    "\n",
    "    scikit-learn uses an optimised version of the CART algorithm; however, scikit-learn implementation does not support categorical variables for now.\n",
    "\n",
    "Solche Werte müssen deshalb vorher in numerische Werte umgewandelt werden.\n",
    "\n",
    "[1]: https://www.kaggle.com/tmdb/tmdb-movie-metadata\n",
    "[2]: https://scikit-learn.org/stable/modules/tree.html#tree-algorithms"
   ]
  },
  {
   "cell_type": "code",
   "execution_count": 32,
   "metadata": {},
   "outputs": [
    {
     "data": {
      "text/html": [
       "<div>\n",
       "<style scoped>\n",
       "    .dataframe tbody tr th:only-of-type {\n",
       "        vertical-align: middle;\n",
       "    }\n",
       "\n",
       "    .dataframe tbody tr th {\n",
       "        vertical-align: top;\n",
       "    }\n",
       "\n",
       "    .dataframe thead th {\n",
       "        text-align: right;\n",
       "    }\n",
       "</style>\n",
       "<table border=\"1\" class=\"dataframe\">\n",
       "  <thead>\n",
       "    <tr style=\"text-align: right;\">\n",
       "      <th></th>\n",
       "      <th>budget</th>\n",
       "      <th>genres</th>\n",
       "      <th>homepage</th>\n",
       "      <th>keywords</th>\n",
       "      <th>original_language</th>\n",
       "      <th>original_title</th>\n",
       "      <th>overview</th>\n",
       "      <th>popularity</th>\n",
       "      <th>production_companies</th>\n",
       "      <th>production_countries</th>\n",
       "      <th>release_date</th>\n",
       "      <th>revenue</th>\n",
       "      <th>runtime</th>\n",
       "      <th>spoken_languages</th>\n",
       "      <th>status</th>\n",
       "      <th>tagline</th>\n",
       "      <th>title</th>\n",
       "      <th>vote_average</th>\n",
       "      <th>vote_count</th>\n",
       "    </tr>\n",
       "    <tr>\n",
       "      <th>id</th>\n",
       "      <th></th>\n",
       "      <th></th>\n",
       "      <th></th>\n",
       "      <th></th>\n",
       "      <th></th>\n",
       "      <th></th>\n",
       "      <th></th>\n",
       "      <th></th>\n",
       "      <th></th>\n",
       "      <th></th>\n",
       "      <th></th>\n",
       "      <th></th>\n",
       "      <th></th>\n",
       "      <th></th>\n",
       "      <th></th>\n",
       "      <th></th>\n",
       "      <th></th>\n",
       "      <th></th>\n",
       "      <th></th>\n",
       "    </tr>\n",
       "  </thead>\n",
       "  <tbody>\n",
       "    <tr>\n",
       "      <th>19995</th>\n",
       "      <td>237000000</td>\n",
       "      <td>[{\"id\": 28, \"name\": \"Action\"}, {\"id\": 12, \"nam...</td>\n",
       "      <td>http://www.avatarmovie.com/</td>\n",
       "      <td>[{\"id\": 1463, \"name\": \"culture clash\"}, {\"id\":...</td>\n",
       "      <td>en</td>\n",
       "      <td>Avatar</td>\n",
       "      <td>In the 22nd century, a paraplegic Marine is di...</td>\n",
       "      <td>150.437577</td>\n",
       "      <td>[{\"name\": \"Ingenious Film Partners\", \"id\": 289...</td>\n",
       "      <td>[{\"iso_3166_1\": \"US\", \"name\": \"United States o...</td>\n",
       "      <td>2009-12-10</td>\n",
       "      <td>2787965087</td>\n",
       "      <td>162.0</td>\n",
       "      <td>[{\"iso_639_1\": \"en\", \"name\": \"English\"}, {\"iso...</td>\n",
       "      <td>Released</td>\n",
       "      <td>Enter the World of Pandora.</td>\n",
       "      <td>Avatar</td>\n",
       "      <td>7.2</td>\n",
       "      <td>11800</td>\n",
       "    </tr>\n",
       "  </tbody>\n",
       "</table>\n",
       "</div>"
      ],
      "text/plain": [
       "          budget                                             genres  \\\n",
       "id                                                                    \n",
       "19995  237000000  [{\"id\": 28, \"name\": \"Action\"}, {\"id\": 12, \"nam...   \n",
       "\n",
       "                          homepage  \\\n",
       "id                                   \n",
       "19995  http://www.avatarmovie.com/   \n",
       "\n",
       "                                                keywords original_language  \\\n",
       "id                                                                           \n",
       "19995  [{\"id\": 1463, \"name\": \"culture clash\"}, {\"id\":...                en   \n",
       "\n",
       "      original_title                                           overview  \\\n",
       "id                                                                        \n",
       "19995         Avatar  In the 22nd century, a paraplegic Marine is di...   \n",
       "\n",
       "       popularity                               production_companies  \\\n",
       "id                                                                     \n",
       "19995  150.437577  [{\"name\": \"Ingenious Film Partners\", \"id\": 289...   \n",
       "\n",
       "                                    production_countries release_date  \\\n",
       "id                                                                      \n",
       "19995  [{\"iso_3166_1\": \"US\", \"name\": \"United States o...   2009-12-10   \n",
       "\n",
       "          revenue  runtime                                   spoken_languages  \\\n",
       "id                                                                              \n",
       "19995  2787965087    162.0  [{\"iso_639_1\": \"en\", \"name\": \"English\"}, {\"iso...   \n",
       "\n",
       "         status                      tagline   title  vote_average  vote_count  \n",
       "id                                                                              \n",
       "19995  Released  Enter the World of Pandora.  Avatar           7.2       11800  "
      ]
     },
     "metadata": {},
     "output_type": "display_data"
    },
    {
     "data": {
      "text/html": [
       "<div>\n",
       "<style scoped>\n",
       "    .dataframe tbody tr th:only-of-type {\n",
       "        vertical-align: middle;\n",
       "    }\n",
       "\n",
       "    .dataframe tbody tr th {\n",
       "        vertical-align: top;\n",
       "    }\n",
       "\n",
       "    .dataframe thead th {\n",
       "        text-align: right;\n",
       "    }\n",
       "</style>\n",
       "<table border=\"1\" class=\"dataframe\">\n",
       "  <thead>\n",
       "    <tr style=\"text-align: right;\">\n",
       "      <th></th>\n",
       "      <th>title</th>\n",
       "      <th>cast</th>\n",
       "      <th>crew</th>\n",
       "    </tr>\n",
       "    <tr>\n",
       "      <th>movie_id</th>\n",
       "      <th></th>\n",
       "      <th></th>\n",
       "      <th></th>\n",
       "    </tr>\n",
       "  </thead>\n",
       "  <tbody>\n",
       "    <tr>\n",
       "      <th>19995</th>\n",
       "      <td>Avatar</td>\n",
       "      <td>[{\"cast_id\": 242, \"character\": \"Jake Sully\", \"...</td>\n",
       "      <td>[{\"credit_id\": \"52fe48009251416c750aca23\", \"de...</td>\n",
       "    </tr>\n",
       "  </tbody>\n",
       "</table>\n",
       "</div>"
      ],
      "text/plain": [
       "           title                                               cast  \\\n",
       "movie_id                                                              \n",
       "19995     Avatar  [{\"cast_id\": 242, \"character\": \"Jake Sully\", \"...   \n",
       "\n",
       "                                                       crew  \n",
       "movie_id                                                     \n",
       "19995     [{\"credit_id\": \"52fe48009251416c750aca23\", \"de...  "
      ]
     },
     "metadata": {},
     "output_type": "display_data"
    }
   ],
   "source": [
    "movies = pd.read_csv('tmdb_5000_movies.csv', index_col='id')\n",
    "credits = pd.read_csv('tmdb_5000_credits.csv', index_col='movie_id')\n",
    "display(movies.head(1))\n",
    "display(credits.head(1))"
   ]
  },
  {
   "cell_type": "markdown",
   "metadata": {},
   "source": [
    "## Vorverarbeitung\n",
    "In einigen Spalte werden nicht vorhandene Werte mit einer 0 angegeben. Damit solche Werte von Pandas [als nicht vorhanden erkannt][1] werden, werden sie durch `np.nan` ersetzt.\n",
    "\n",
    "[1]: https://pandas.pydata.org/pandas-docs/stable/user_guide/missing_data.html"
   ]
  },
  {
   "cell_type": "code",
   "execution_count": 33,
   "metadata": {},
   "outputs": [],
   "source": [
    "movies['budget'] = movies['budget'].replace(0, np.nan)\n",
    "movies['runtime'] = movies['runtime'].replace(0, np.nan)\n",
    "movies['revenue'] = movies['revenue'].replace(0, np.nan)"
   ]
  },
  {
   "cell_type": "markdown",
   "metadata": {},
   "source": [
    "In der `genres`-Spalte befinden sich JSON-kodierte Strings."
   ]
  },
  {
   "cell_type": "code",
   "execution_count": 34,
   "metadata": {},
   "outputs": [
    {
     "data": {
      "text/plain": [
       "'[{\"id\": 28, \"name\": \"Action\"}, {\"id\": 12, \"name\": \"Adventure\"}, {\"id\": 14, \"name\": \"Fantasy\"}, {\"id\": 878, \"name\": \"Science Fiction\"}]'"
      ]
     },
     "metadata": {},
     "output_type": "display_data"
    }
   ],
   "source": [
    "display(movies['genres'].iloc[0])"
   ]
  },
  {
   "cell_type": "markdown",
   "metadata": {},
   "source": [
    "Um diese Werte nutzen zu könenn wird eine neue Tabelle erstellt, die für jeden Film einen Eintrag und für jedes Genre eine Spalte enthält. Die Werte in der Tabelle sind dann entweder 0, wenn der Film nicht dieses Genre hat oder 1 wenn der Film dieses Genre hat."
   ]
  },
  {
   "cell_type": "code",
   "execution_count": 35,
   "metadata": {},
   "outputs": [
    {
     "data": {
      "text/html": [
       "<div>\n",
       "<style scoped>\n",
       "    .dataframe tbody tr th:only-of-type {\n",
       "        vertical-align: middle;\n",
       "    }\n",
       "\n",
       "    .dataframe tbody tr th {\n",
       "        vertical-align: top;\n",
       "    }\n",
       "\n",
       "    .dataframe thead th {\n",
       "        text-align: right;\n",
       "    }\n",
       "</style>\n",
       "<table border=\"1\" class=\"dataframe\">\n",
       "  <thead>\n",
       "    <tr style=\"text-align: right;\">\n",
       "      <th></th>\n",
       "      <th>Action</th>\n",
       "      <th>Adventure</th>\n",
       "      <th>Animation</th>\n",
       "      <th>Comedy</th>\n",
       "      <th>Crime</th>\n",
       "      <th>Documentary</th>\n",
       "      <th>Drama</th>\n",
       "      <th>Family</th>\n",
       "      <th>Fantasy</th>\n",
       "      <th>Foreign</th>\n",
       "      <th>History</th>\n",
       "      <th>Horror</th>\n",
       "      <th>Music</th>\n",
       "      <th>Mystery</th>\n",
       "      <th>Romance</th>\n",
       "      <th>Science Fiction</th>\n",
       "      <th>TV Movie</th>\n",
       "      <th>Thriller</th>\n",
       "      <th>War</th>\n",
       "      <th>Western</th>\n",
       "    </tr>\n",
       "    <tr>\n",
       "      <th>id</th>\n",
       "      <th></th>\n",
       "      <th></th>\n",
       "      <th></th>\n",
       "      <th></th>\n",
       "      <th></th>\n",
       "      <th></th>\n",
       "      <th></th>\n",
       "      <th></th>\n",
       "      <th></th>\n",
       "      <th></th>\n",
       "      <th></th>\n",
       "      <th></th>\n",
       "      <th></th>\n",
       "      <th></th>\n",
       "      <th></th>\n",
       "      <th></th>\n",
       "      <th></th>\n",
       "      <th></th>\n",
       "      <th></th>\n",
       "      <th></th>\n",
       "    </tr>\n",
       "  </thead>\n",
       "  <tbody>\n",
       "    <tr>\n",
       "      <th>19995</th>\n",
       "      <td>1</td>\n",
       "      <td>1</td>\n",
       "      <td>0</td>\n",
       "      <td>0</td>\n",
       "      <td>0</td>\n",
       "      <td>0</td>\n",
       "      <td>0</td>\n",
       "      <td>0</td>\n",
       "      <td>1</td>\n",
       "      <td>0</td>\n",
       "      <td>0</td>\n",
       "      <td>0</td>\n",
       "      <td>0</td>\n",
       "      <td>0</td>\n",
       "      <td>0</td>\n",
       "      <td>1</td>\n",
       "      <td>0</td>\n",
       "      <td>0</td>\n",
       "      <td>0</td>\n",
       "      <td>0</td>\n",
       "    </tr>\n",
       "    <tr>\n",
       "      <th>285</th>\n",
       "      <td>1</td>\n",
       "      <td>1</td>\n",
       "      <td>0</td>\n",
       "      <td>0</td>\n",
       "      <td>0</td>\n",
       "      <td>0</td>\n",
       "      <td>0</td>\n",
       "      <td>0</td>\n",
       "      <td>1</td>\n",
       "      <td>0</td>\n",
       "      <td>0</td>\n",
       "      <td>0</td>\n",
       "      <td>0</td>\n",
       "      <td>0</td>\n",
       "      <td>0</td>\n",
       "      <td>0</td>\n",
       "      <td>0</td>\n",
       "      <td>0</td>\n",
       "      <td>0</td>\n",
       "      <td>0</td>\n",
       "    </tr>\n",
       "    <tr>\n",
       "      <th>206647</th>\n",
       "      <td>1</td>\n",
       "      <td>1</td>\n",
       "      <td>0</td>\n",
       "      <td>0</td>\n",
       "      <td>1</td>\n",
       "      <td>0</td>\n",
       "      <td>0</td>\n",
       "      <td>0</td>\n",
       "      <td>0</td>\n",
       "      <td>0</td>\n",
       "      <td>0</td>\n",
       "      <td>0</td>\n",
       "      <td>0</td>\n",
       "      <td>0</td>\n",
       "      <td>0</td>\n",
       "      <td>0</td>\n",
       "      <td>0</td>\n",
       "      <td>0</td>\n",
       "      <td>0</td>\n",
       "      <td>0</td>\n",
       "    </tr>\n",
       "  </tbody>\n",
       "</table>\n",
       "</div>"
      ],
      "text/plain": [
       "        Action  Adventure  Animation  Comedy  Crime  Documentary  Drama  \\\n",
       "id                                                                        \n",
       "19995        1          1          0       0      0            0      0   \n",
       "285          1          1          0       0      0            0      0   \n",
       "206647       1          1          0       0      1            0      0   \n",
       "\n",
       "        Family  Fantasy  Foreign  History  Horror  Music  Mystery  Romance  \\\n",
       "id                                                                           \n",
       "19995        0        1        0        0       0      0        0        0   \n",
       "285          0        1        0        0       0      0        0        0   \n",
       "206647       0        0        0        0       0      0        0        0   \n",
       "\n",
       "        Science Fiction  TV Movie  Thriller  War  Western  \n",
       "id                                                         \n",
       "19995                 1         0         0    0        0  \n",
       "285                   0         0         0    0        0  \n",
       "206647                0         0         0    0        0  "
      ]
     },
     "metadata": {},
     "output_type": "display_data"
    }
   ],
   "source": [
    "# Hilfsvariable um zu erst die JSON Strings zu dekodieren und dann die Genre-Namen zu extrahieren.\n",
    "genre_names = movies['genres'].apply(json.loads)\n",
    "genre_names = genre_names.apply(lambda x: [d['name'] for d in x])\n",
    "\n",
    "mlb = preprocessing.MultiLabelBinarizer()\n",
    "mlb.fit(genre_names)\n",
    "genres = pd.DataFrame(mlb.transform(genre_names), index=movies.index, columns=mlb.classes_)\n",
    "\n",
    "display(genres.iloc[:3])"
   ]
  },
  {
   "cell_type": "markdown",
   "metadata": {},
   "source": [
    "Das Release-Datum soll auch benutzt werden, dafür werden zwei neue Spalten mit Jahr und Monat erstellt da es interessant sein könnte ob der Monat der Veröffentlichung eine Rolle spielt."
   ]
  },
  {
   "cell_type": "code",
   "execution_count": 36,
   "metadata": {},
   "outputs": [],
   "source": [
    "movies['release_month'] = movies['release_date'].apply(lambda x: pd.to_datetime(x).month)\n",
    "movies['release_year'] = movies['release_date'].apply(lambda x: pd.to_datetime(x).year)"
   ]
  },
  {
   "cell_type": "markdown",
   "metadata": {},
   "source": [
    "Alle Features, die für das Model verwendet werden sollen, werden in einem DataFrame zusammengefasst und alle Zeilen mit nicht vorhandenen Werten entfernt."
   ]
  },
  {
   "cell_type": "code",
   "execution_count": 37,
   "metadata": {},
   "outputs": [],
   "source": [
    "used_features = movies[['budget', 'revenue', 'runtime', 'release_month', 'release_year', 'popularity']].join(genres)\n",
    "used_features = used_features.dropna()"
   ]
  },
  {
   "cell_type": "markdown",
   "metadata": {},
   "source": [
    "## Erstellung und Training des Models\n",
    "\n",
    "Zuerst werden die zu verwendenden Daten in Trainings- und Testdaten aufgeteilt. Danach wird noch die gesuchte Zielvariable (revenue) von den restlichen Daten getrennt."
   ]
  },
  {
   "cell_type": "code",
   "execution_count": 38,
   "metadata": {},
   "outputs": [],
   "source": [
    "train, test = train_test_split(used_features, test_size=0.2, random_state=0)\n",
    "\n",
    "train_revenue = train.pop('revenue')\n",
    "test_revenue = test.pop('revenue')"
   ]
  },
  {
   "cell_type": "markdown",
   "metadata": {},
   "source": [
    "Über den `max_samples`-Parameter kann festgelegt werden, wie viele Samples (%) je Entscheidungsbaum verwendet werden sollen. Der Paramter kann einen großen Einfluss auf das Ergebniss haben."
   ]
  },
  {
   "cell_type": "code",
   "execution_count": 39,
   "metadata": {},
   "outputs": [
    {
     "name": "stdout",
     "output_type": "stream",
     "text": [
      "Score: 0.668673630059138\n"
     ]
    },
    {
     "data": {
      "image/png": "[encoded data removed]",
      "text/plain": [
       "<Figure size 504x504 with 1 Axes>"
      ]
     },
     "metadata": {
      "needs_background": "light"
     },
     "output_type": "display_data"
    }
   ],
   "source": [
    "model = RandomForestRegressor(max_samples=0.1, random_state=0)\n",
    "\n",
    "model.fit(train, train_revenue)\n",
    "\n",
    "predicted_revenue = model.predict(test)\n",
    "\n",
    "print('Score:', model.score(test, test_revenue))\n",
    "\n",
    "df = pd.DataFrame({'actual revenue': test_revenue, 'predicted revenue': predicted_revenue})\n",
    "g = df.plot(x='actual revenue', y='predicted revenue', kind='scatter', figsize=(7, 7))"
   ]
  }
 ],
 "metadata": {
  "kernelspec": {
   "display_name": "Python 3",
   "language": "python",
   "name": "python3"
  },
  "language_info": {
   "codemirror_mode": {
    "name": "ipython",
    "version": 3
   },
   "file_extension": ".py",
   "mimetype": "text/x-python",
   "name": "python",
   "nbconvert_exporter": "python",
   "pygments_lexer": "ipython3",
   "version": "3.8.6"
  }
 },
 "nbformat": 4,
 "nbformat_minor": 4
}
